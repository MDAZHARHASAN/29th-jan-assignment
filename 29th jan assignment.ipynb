{
 "cells": [
  {
   "cell_type": "code",
   "execution_count": 1,
   "id": "1ea531c0",
   "metadata": {},
   "outputs": [],
   "source": [
    "#QNo.(1) who developed python programming language?"
   ]
  },
  {
   "cell_type": "code",
   "execution_count": 2,
   "id": "31f41948",
   "metadata": {},
   "outputs": [],
   "source": [
    "#Ans.Guido van Rossum"
   ]
  },
  {
   "cell_type": "code",
   "execution_count": 4,
   "id": "3837e869",
   "metadata": {},
   "outputs": [],
   "source": [
    "#QNo.(2) which type of programming does python support?"
   ]
  },
  {
   "cell_type": "code",
   "execution_count": 5,
   "id": "6b6cd121",
   "metadata": {},
   "outputs": [],
   "source": [
    "#Ans.Python supports multiple programming including procedural, object-oriented, and functional programming."
   ]
  },
  {
   "cell_type": "code",
   "execution_count": 6,
   "id": "60d8bf87",
   "metadata": {},
   "outputs": [],
   "source": [
    "#Qno.(3) Is python case sensitive when dealing with identifiers?"
   ]
  },
  {
   "cell_type": "code",
   "execution_count": 7,
   "id": "3ae917e8",
   "metadata": {},
   "outputs": [],
   "source": [
    "#Ans.Yes"
   ]
  },
  {
   "cell_type": "code",
   "execution_count": 8,
   "id": "3feb1c42",
   "metadata": {},
   "outputs": [],
   "source": [
    "#Qno.(4) What is the correct extension of the python file?"
   ]
  },
  {
   "cell_type": "code",
   "execution_count": 9,
   "id": "a220a455",
   "metadata": {},
   "outputs": [],
   "source": [
    "#Ans.The correct extension for a Python file is \".py\"."
   ]
  },
  {
   "cell_type": "code",
   "execution_count": 10,
   "id": "6a765987",
   "metadata": {},
   "outputs": [],
   "source": [
    "#Qno.(5) Is python code compiled or interpreted?"
   ]
  },
  {
   "cell_type": "code",
   "execution_count": 11,
   "id": "eaa1c680",
   "metadata": {},
   "outputs": [],
   "source": [
    "#Ans.Python is an interpreted language."
   ]
  },
  {
   "cell_type": "code",
   "execution_count": 1,
   "id": "31dbe8b5",
   "metadata": {},
   "outputs": [],
   "source": [
    "#Qno.(6) Name a few blocks of code used to define in Python language?"
   ]
  },
  {
   "cell_type": "code",
   "execution_count": 2,
   "id": "adb55736",
   "metadata": {},
   "outputs": [],
   "source": [
    "#Ans. In Python, there are several blocks of code used to define various structures such as functions, classes, loops, and conditional statements."
   ]
  },
  {
   "cell_type": "code",
   "execution_count": 3,
   "id": "d306ffa6",
   "metadata": {},
   "outputs": [],
   "source": [
    "#Qno.(7) State a character used to give single-line comments in python?"
   ]
  },
  {
   "cell_type": "code",
   "execution_count": 4,
   "id": "1036321e",
   "metadata": {},
   "outputs": [],
   "source": [
    "#Ans. In Python, the \"#\" symbol is used to give a single-line comment."
   ]
  },
  {
   "cell_type": "code",
   "execution_count": 5,
   "id": "5687e1ab",
   "metadata": {},
   "outputs": [],
   "source": [
    "#Qno.(8) Mention functions which can help us to find the version of python that we are currently working on?"
   ]
  },
  {
   "cell_type": "code",
   "execution_count": 6,
   "id": "f25e31d4",
   "metadata": {},
   "outputs": [
    {
     "name": "stdout",
     "output_type": "stream",
     "text": [
      "3.9.13 (main, Aug 25 2022, 23:51:50) [MSC v.1916 64 bit (AMD64)]\n",
      "sys.version_info(major=3, minor=9, micro=13, releaselevel='final', serial=0)\n"
     ]
    }
   ],
   "source": [
    "#Ans. In Python, there are two built-in functions to check the version:\n",
    "\n",
    "sys.version: Returns a string that contains information about the version of Python you are using, including the build number and compiler.\n",
    "\n",
    "sys.version_info: Returns a named tuple that contains information about the version of Python you are using, including the major, minor, and micro version numbers.\n",
    "import sys\n",
    "\n",
    "print(sys.version)\n",
    "print(sys.version_info)\n"
   ]
  },
  {
   "cell_type": "code",
   "execution_count": 7,
   "id": "c1b7a48e",
   "metadata": {},
   "outputs": [],
   "source": [
    "#Qno.(9) Python supports the creation of anonymous functions at runtime,using a construct called____________?"
   ]
  },
  {
   "cell_type": "code",
   "execution_count": 8,
   "id": "93f71578",
   "metadata": {},
   "outputs": [],
   "source": [
    "#Ans.  lambda"
   ]
  },
  {
   "cell_type": "code",
   "execution_count": 9,
   "id": "a4275bfc",
   "metadata": {},
   "outputs": [],
   "source": [
    "#Qno.(10) What does pip stand for python?"
   ]
  },
  {
   "cell_type": "code",
   "execution_count": 10,
   "id": "f4489520",
   "metadata": {},
   "outputs": [],
   "source": [
    "#Ans. pip is short for \"Pip Installs Packages\"."
   ]
  },
  {
   "cell_type": "code",
   "execution_count": 11,
   "id": "4db84a96",
   "metadata": {},
   "outputs": [],
   "source": [
    "#Qno.(11) Mention a few built in functions in python?"
   ]
  },
  {
   "cell_type": "code",
   "execution_count": 12,
   "id": "48142ea9",
   "metadata": {},
   "outputs": [],
   "source": [
    "#Ans. Python has a lot of built-in functions. Here are a few examples:-\n",
    "\n",
    "print(): Used to display output on the console.\n",
    "\n",
    "len(): Returns the length of an object.\n",
    "\n",
    "range(): Generates a sequence of numbers.\n",
    "\n",
    "sum(): Calculates the sum of a sequence of numbers.\n",
    "\n",
    "min() and max(): Return the minimum and maximum values in a sequence, respectively.\n",
    "\n",
    "sorted(): Returns a sorted list from a given iterable.\n",
    "\n",
    "str() and int(): Converts values to strings and integers, respectively.\n",
    "\n",
    "abs(): Returns the absolute value of a number.\n",
    "\n",
    "type(): Returns the type of an object.\n",
    "\n",
    "help(): Provides information about a function or module."
   ]
  },
  {
   "cell_type": "code",
   "execution_count": 13,
   "id": "9dc63680",
   "metadata": {},
   "outputs": [],
   "source": [
    "#Qno.(12) What is the maximum possible length of an identifier in python?"
   ]
  },
  {
   "cell_type": "code",
   "execution_count": 14,
   "id": "f61e80a3",
   "metadata": {},
   "outputs": [],
   "source": [
    "#Ans. In Python, there is no fixed limit on the length of an identifier (variable name, function name, class name, etc."
   ]
  },
  {
   "cell_type": "code",
   "execution_count": 15,
   "id": "256e87ad",
   "metadata": {},
   "outputs": [],
   "source": [
    "#Qno.(13) What are the benefits of using python?"
   ]
  },
  {
   "cell_type": "code",
   "execution_count": null,
   "id": "1f2950fb",
   "metadata": {},
   "outputs": [],
   "source": [
    "#Ans. Python has many benefits, which is why it is one of the most popular programming languages in the world. Here are some of the key benefits of using Python:\n",
    "\n",
    "Easy to learn\n",
    "Free available\n",
    "Versatile\n",
    "Large community\n",
    "Large standard library\n",
    "Cross-platform\n",
    "Dynamically Typed\n",
    "Readable and maintainable code"
   ]
  },
  {
   "cell_type": "code",
   "execution_count": 16,
   "id": "6d29cec7",
   "metadata": {},
   "outputs": [],
   "source": [
    "#Qno.(14) How is memory managed in python?"
   ]
  },
  {
   "cell_type": "code",
   "execution_count": null,
   "id": "0e063f03",
   "metadata": {},
   "outputs": [],
   "source": [
    "#Ans.Python manages memory automatically using a process known as \"garbage collection\".\n",
    "The Python interpreter automatically keeps track of which objects are no longer needed and frees up the memory used by these objects.\n",
    "Python uses a reference counting system to keep track of which objects are in use and which objects are no longer needed."
   ]
  },
  {
   "cell_type": "code",
   "execution_count": 17,
   "id": "28590a1f",
   "metadata": {},
   "outputs": [],
   "source": [
    "#Qno.(15) How to install python on windows and set path variables?"
   ]
  },
  {
   "cell_type": "code",
   "execution_count": null,
   "id": "54a8de57",
   "metadata": {},
   "outputs": [],
   "source": [
    "#Ans. Here are the steps to install Python on Windows and set the path variables:\n",
    "\n",
    "Download the Python installer from the official Python website (https://www.python.org/downloads/).\n",
    "\n",
    "Run the installer by double-clicking on the downloaded file. Follow the instructions on the screen to complete the installation process.\n",
    "\n",
    "After the installation is complete, open the Start menu and search for \"Environment Variables\". Click on \"Edit the system environment variables\".\n",
    "\n",
    "In the System Properties window, click on the \"Environment Variables\" button.\n",
    "\n",
    "In the Environment Variables window, scroll down to the \"System variables\" section and find the \"Path\" variable. Click on the \"Edit\" button.\n",
    "\n",
    "In the Edit environment variable window, click on the \"New\" button and add the path to the Python executable file. The path is usually something like \"C:\\PythonXX\\Scripts\", where XX is the version number of Python you have installed.\n",
    "\n",
    "Click \"OK\" on all open windows to save the changes.\n",
    "\n",
    "Open the Command Prompt and type \"python\" to verify that the installation was successful. You should see the Python prompt, which looks like \">>>\".\n",
    "\n",
    "To set the path variables permanently, you can also add the path to the Python executable to the User Variables section in the Environment Variables window."
   ]
  },
  {
   "cell_type": "code",
   "execution_count": 18,
   "id": "f952ba92",
   "metadata": {},
   "outputs": [],
   "source": [
    "#Qno.(16) Is indentation required in python?"
   ]
  },
  {
   "cell_type": "code",
   "execution_count": null,
   "id": "663d7c08",
   "metadata": {},
   "outputs": [],
   "source": [
    "#Ans. Yes, indentation is required in Python."
   ]
  }
 ],
 "metadata": {
  "kernelspec": {
   "display_name": "Python 3 (ipykernel)",
   "language": "python",
   "name": "python3"
  },
  "language_info": {
   "codemirror_mode": {
    "name": "ipython",
    "version": 3
   },
   "file_extension": ".py",
   "mimetype": "text/x-python",
   "name": "python",
   "nbconvert_exporter": "python",
   "pygments_lexer": "ipython3",
   "version": "3.9.13"
  }
 },
 "nbformat": 4,
 "nbformat_minor": 5
}
